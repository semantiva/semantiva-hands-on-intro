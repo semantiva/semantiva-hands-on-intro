{
 "cells": [
  {
   "cell_type": "markdown",
   "metadata": {},
   "source": [
    "# Notebook 03: Pipeline Fundamentals\n",
    "\n",
    "Here, we dive into Semantiva’s pipeline architecture and how to structure larger workflows.\n",
    "\n",
    "**Topics covered:**\n",
    "- Introducing context operations like renaming and deleting context items\n",
    "- Understanding the dual-channel concept (data vs. context)\n",
    "- Building pipelines with `AlgorithmNode` and `ProbeNode`\n",
    "- Executing pipelines in both static and data-driven modes\n",
    "- Configuring pipelines via YAML\n",
    "- Inspecting and benchmarking pipelines\n",
    "\n",
    "By the end, you’ll be able to design and run your own Semantiva pipelines with confidence.\n",
    "\n",
    "---"
   ]
  },
  {
   "cell_type": "markdown",
   "metadata": {},
   "source": [
    "1. **Pipelines: Concept and Structure**\n",
    "    \n",
    "    - Separation between data and context (dual-channel flow)\n",
    "    - Definition and benefits\n",
    "2. **Introducing Context Operations**\n",
    "    \n",
    "    - Context renamer and context deleter\n",
    "    - Why they are useful in image processing workflows\n",
    "3. **Nodes**\n",
    "    \n",
    "    - `AlgorithmNode`\n",
    "    - `ProbeNode`\n",
    "        - `ProbeContextInjectorNode`\n",
    "        - `ProbeResultCollectorNode`\n",
    "4. **Pipeline Execution Flow**\n",
    "    \n",
    "    - From static operations to data-driven operations\n",
    "    - Step-by-step pipeline run\n",
    "5. **Defining a Pipeline**\n",
    "    \n",
    "    - Combining examples from previous notebooks\n",
    "    - Pipeline configuration in YAML\n",
    "6. **Pipeline Inspection and Timers**\n",
    "    \n",
    "    - Pipeline inspection\n",
    "    - Benchmarking\n",
    "    - Pipeline execution in debug mode \n",
    "\n",
    "> **Goal**: Show how to wire together algorithms, probes into reusable, systematic workflows."
   ]
  },
  {
   "cell_type": "code",
   "execution_count": null,
   "metadata": {},
   "outputs": [],
   "source": []
  }
 ],
 "metadata": {
  "language_info": {
   "name": "python"
  }
 },
 "nbformat": 4,
 "nbformat_minor": 2
}
